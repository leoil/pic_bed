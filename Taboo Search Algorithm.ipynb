{
 "cells": [
  {
   "cell_type": "markdown",
   "metadata": {},
   "source": [
    "# 实验14：禁忌搜索算法"
   ]
  },
  {
   "cell_type": "markdown",
   "metadata": {},
   "source": [
    "信计1601 刘泉晟 1130116122"
   ]
  },
  {
   "cell_type": "markdown",
   "metadata": {},
   "source": [
    "## 实验原理"
   ]
  },
  {
   "cell_type": "markdown",
   "metadata": {},
   "source": [
    "![theory](theory.png)"
   ]
  },
  {
   "cell_type": "markdown",
   "metadata": {},
   "source": [
    "## 实验内容"
   ]
  },
  {
   "cell_type": "markdown",
   "metadata": {},
   "source": [
    "![content](content.png)"
   ]
  },
  {
   "cell_type": "markdown",
   "metadata": {},
   "source": [
    "## 实验过程"
   ]
  },
  {
   "cell_type": "code",
   "execution_count": 490,
   "metadata": {},
   "outputs": [],
   "source": [
    "import numpy as np\n",
    "from numpy.random import shuffle,choice\n",
    "import matplotlib.pyplot as plt\n",
    "%matplotlib inline"
   ]
  },
  {
   "cell_type": "markdown",
   "metadata": {},
   "source": [
    "### 定义权重矩阵"
   ]
  },
  {
   "cell_type": "code",
   "execution_count": 6,
   "metadata": {},
   "outputs": [
    {
     "data": {
      "text/plain": [
       "array([[12,  7,  9,  7,  9],\n",
       "       [ 8,  9,  6,  6,  6],\n",
       "       [ 7, 17, 12, 14,  9],\n",
       "       [15, 14,  6,  6, 10],\n",
       "       [ 4, 10,  7, 10,  9]])"
      ]
     },
     "execution_count": 6,
     "metadata": {},
     "output_type": "execute_result"
    }
   ],
   "source": [
    "weight = np.array([[12, 7, 9, 7, 9],[8, 9, 6, 6, 6],[7, 17, 12, 14, 9],[15, 14, 6, 6, 10],[4, 10, 7, 10, 9]])\n",
    "weight"
   ]
  },
  {
   "cell_type": "markdown",
   "metadata": {},
   "source": [
    "### 构建TS类"
   ]
  },
  {
   "cell_type": "code",
   "execution_count": 581,
   "metadata": {},
   "outputs": [],
   "source": [
    "class TS:\n",
    "    def __init__(self,weight,seed = 2018, max_iter = 50, solution_size = 60, max_list_size = 5):\n",
    "        self.seed = seed\n",
    "        self.t_list = []\n",
    "#         self.best = 1e5\n",
    "        self.solution_size = solution_size\n",
    "        self.max_list_size = max_list_size\n",
    "        self.weight = weight\n",
    "        self.max_iter = max_iter\n",
    "        self.re = []\n",
    "        \n",
    "    #随机生成初始解\n",
    "    def plan_gen(self):\n",
    "        work = np.arange(5)\n",
    "        shuffle(work)\n",
    "        return work\n",
    "    \n",
    "    #插入更新禁忌表\n",
    "    def insert(self,item):\n",
    "        if len(self.t_list)+1 > self.max_list_size:\n",
    "            self.t_list = self.t_list[1:]\n",
    "        if item not in self.t_list:\n",
    "            self.t_list.append(item)\n",
    "    \n",
    "    #get得分\n",
    "    def eva(self, plan):\n",
    "        sum = 0\n",
    "        for i in range(5):\n",
    "            sum += weight[i][plan[i]]\n",
    "        return sum\n",
    "    \n",
    "    def swap(self,plan, i, j): \n",
    "        temp = plan.copy()\n",
    "        t = temp[i]\n",
    "        plan[i] = temp[j]\n",
    "        plan[j] = t\n",
    "        return temp\n",
    "    \n",
    "    # 进行2-opt交换\n",
    "    def swap1(self,plan, i, j): \n",
    "        temp = plan.copy()\n",
    "        temp[i:j+1] = temp[i:j+1][::-1]\n",
    "        return temp\n",
    "    def search(self):\n",
    "        iter = 0\n",
    "        mod = self.plan_gen()\n",
    "        global_score = 1e5\n",
    "        cur_best = mod\n",
    "        global_best = mod\n",
    "        while iter < self.max_iter:\n",
    "            iter+=1\n",
    "            cnt = 0\n",
    "            cur_score = 1e5 \n",
    "            #mod\n",
    "            cur_move = []\n",
    "            t_score = 1e5\n",
    "            t_move = []\n",
    "            \n",
    "            for it in range(self.solution_size):\n",
    "                i,j = choice(5,2)\n",
    "                temp = self.swap(mod, i,j)\n",
    "                \n",
    "                score = self.eva(temp)\n",
    "                move = [mod[i],mod[j]]\n",
    "                if  score< global_score:#小于当前最优值，不管禁忌，直接更新\n",
    "                    cur_score = score\n",
    "                    cur_best = temp.copy()\n",
    "                    global_score = cur_score\n",
    "                    global_best = cur_best\n",
    "                    self.insert(move)\n",
    "                    mod = cur_best.copy()\n",
    "                    cnt+=1\n",
    "                    break\n",
    "                    \n",
    "                elif move not in self.t_list:#满足禁忌\n",
    "                    if score < cur_score:#比之前的值小\n",
    "                        cur_score = score\n",
    "                        cur_best = temp\n",
    "                        cur_move = move\n",
    "                    cnt+=1\n",
    "                elif score < t_score:#不满足禁忌 先记下来\n",
    "                    t_score = score\n",
    "                    t_best = temp\n",
    "                    t_move = move\n",
    "    \n",
    "            if cnt != 0:\n",
    "                self.insert(cur_move)\n",
    "            else:\n",
    "                print(cnt)\n",
    "                print(it)\n",
    "                cur_best = t_best\n",
    "                self.t_list.remove(t_move)\n",
    "             \n",
    "            mod = cur_best.copy()\n",
    "            self.re.append([global_score,cur_score])\n",
    "        self.plot()\n",
    "        return [global_score, global_best]\n",
    "    def plot(self):\n",
    "        x = np.asarray(self.re)\n",
    "        plt.subplot(1,2,1)\n",
    "        plt.title(\"Gloable Best\")\n",
    "        plt.plot(x[:,0])\n",
    "        plt.subplot(1,2,2)\n",
    "        plt.title(\"Best Score In Each Iteration\")\n",
    "        plt.plot(x[:,1])\n",
    "        plt.show()"
   ]
  },
  {
   "cell_type": "markdown",
   "metadata": {},
   "source": [
    "### 建立对象，进行求解"
   ]
  },
  {
   "cell_type": "code",
   "execution_count": 552,
   "metadata": {},
   "outputs": [],
   "source": [
    "ts = TS(weight = weight)"
   ]
  },
  {
   "cell_type": "markdown",
   "metadata": {},
   "source": [
    "### 结果展示"
   ]
  },
  {
   "cell_type": "code",
   "execution_count": 553,
   "metadata": {},
   "outputs": [
    {
     "data": {
      "image/png": "[encoded data removed]",
      "text/plain": [
       "<Figure size 432x288 with 2 Axes>"
      ]
     },
     "metadata": {},
     "output_type": "display_data"
    }
   ],
   "source": [
    "x = ts.search()"
   ]
  },
  {
   "cell_type": "code",
   "execution_count": 557,
   "metadata": {},
   "outputs": [],
   "source": [
    "上图是求解过程中，整体最优值和迭代最优值的bian"
   ]
  },
  {
   "cell_type": "code",
   "execution_count": 580,
   "metadata": {},
   "outputs": [
    {
     "data": {
      "image/png": "[encoded data removed]",
      "text/plain": [
       "<Figure size 432x288 with 2 Axes>"
      ]
     },
     "metadata": {},
     "output_type": "display_data"
    }
   ],
   "source": [
    "from matplotlib import cm \n",
    "m = np.zeros([5,5])\n",
    "for i in range(5):\n",
    "    m[i][x[1][i]] = 1\n",
    "cmap=cm.get_cmap('winter',200)\n",
    "map=plt.imshow(m,interpolation='nearest',cmap=cmap,aspect='auto',vmin=0,vmax=1)\n",
    "cb=plt.colorbar(mappable=map,cax=None,ax=None,shrink=0.5)\n",
    "plt.show()\n"
   ]
  }
 ],
 "metadata": {
  "kernelspec": {
   "display_name": "Python 3",
   "language": "python",
   "name": "python3"
  },
  "language_info": {
   "codemirror_mode": {
    "name": "ipython",
    "version": 3
   },
   "file_extension": ".py",
   "mimetype": "text/x-python",
   "name": "python",
   "nbconvert_exporter": "python",
   "pygments_lexer": "ipython3",
   "version": "3.6.5"
  },
  "latex_envs": {
   "LaTeX_envs_menu_present": true,
   "autoclose": false,
   "autocomplete": true,
   "bibliofile": "biblio.bib",
   "cite_by": "apalike",
   "current_citInitial": 1,
   "eqLabelWithNumbers": true,
   "eqNumInitial": 1,
   "hotkeys": {
    "equation": "Ctrl-E",
    "itemize": "Ctrl-I"
   },
   "labels_anchors": false,
   "latex_user_defs": false,
   "report_style_numbering": false,
   "user_envs_cfg": false
  },
  "toc": {
   "base_numbering": 1,
   "nav_menu": {},
   "number_sections": true,
   "sideBar": true,
   "skip_h1_title": false,
   "title_cell": "Table of Contents",
   "title_sidebar": "Contents",
   "toc_cell": false,
   "toc_position": {},
   "toc_section_display": true,
   "toc_window_display": false
  }
 },
 "nbformat": 4,
 "nbformat_minor": 2
}
